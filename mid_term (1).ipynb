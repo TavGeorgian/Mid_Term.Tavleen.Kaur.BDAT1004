{
 "cells": [
  {
   "cell_type": "markdown",
   "metadata": {},
   "source": [
    "# Question 21\n",
    "\n",
    "__int()__: Constructor that takes as input a pair of Point objects that represent the ends points of the line segment\n",
    "\n",
    "Length():: returns the length if the segment \n",
    "\n",
    "Slope() returns the slope of the segment of none if the slope is unbounded \n",
    "\n",
    " \n",
    ">>> p1 = Point(3,4)\n",
    "\n",
    ">>> p2 = Point()\n",
    "\n",
    ">>> s = Segment(p1,p2)\n",
    "\n",
    ">>> s.length()\n",
    "\n",
    "5.0\n",
    "\n",
    ">>> s.slope()\n",
    "\n",
    "0.75"
   ]
  },
  {
   "cell_type": "code",
   "execution_count": 15,
   "metadata": {},
   "outputs": [
    {
     "name": "stdout",
     "output_type": "stream",
     "text": [
      "5.0\n",
      "0.75\n"
     ]
    }
   ],
   "source": [
    "import math\n",
    "\n",
    "class Point:\n",
    "    def __init__(self, x=0, y=0):  # two attributes, x and y, which are the coordinates of the point\n",
    "        self.x = x\n",
    "        self.y = y\n",
    "\n",
    "class Segment:\n",
    "    def __init__(self, p1, p2): # two attributes, p1 and p2, which are instances of the Point class\n",
    "        self.p1 = p1\n",
    "        self.p2 = p2\n",
    "\n",
    "    def length(self):   # calculate the length of the Segment and using Pythagorean theorem \n",
    "        dx = self.p2.x - self.p1.x\n",
    "        dy = self.p2.y - self.p1.y\n",
    "        return math.sqrt(dx**2 + dy**2)\n",
    "\n",
    "    def slope(self):\n",
    "        dx = self.p2.x - self.p1.x\n",
    "        dy = self.p2.y - self.p1.y\n",
    "\n",
    "        if dx == 0:\n",
    "            return None  \n",
    "        return dx / dy\n",
    "\n",
    "# Usage\n",
    "p1 = Point(3, 4)\n",
    "p2 = Point()\n",
    "s = Segment(p1, p2)\n",
    "\n",
    "print(s.length())  # Should print 5.0\n",
    "print(s.slope())   # Should print 0.75\n"
   ]
  },
  {
   "cell_type": "markdown",
   "metadata": {},
   "source": [
    "# Question 22\n",
    "\n",
    "+---------------+---------+\n",
    "| Column Name   | Type    |\n",
    "+---------------+---------+\n",
    "| id            | int     |\n",
    "| recordDate    | date    |\n",
    "| temperature   | int     |\n",
    "+---------------+---------+\n",
    "id is the column with unique values for this table.\n",
    "This table contains information about the temperature on a certain day.\n",
    "\n",
    "Write a solution to find all dates' Id with higher temperatures compared to its previous dates (yesterday).\n",
    "\n",
    "Return the result table in any order.\n",
    "\n",
    "Please use the following input Weather table for your solution. To receive full marks you will need to create the database, create the table, insert the data below and execute the SQL query.\n",
    "\n",
    "Input: \n",
    "Weather table:\n",
    "+----+------------+-------------+\n",
    "| id | recordDate | temperature |\n",
    "+----+------------+-------------+\n",
    "| 1  | 2015-01-01 | 10          |\n",
    "| 2  | 2015-01-02 | 25          |\n",
    "| 3  | 2015-01-03 | 20          |\n",
    "| 4  | 2015-01-04 | 30          |\n",
    "+----+------------+-------------+\n",
    "Output: \n",
    "+----+\n",
    "| id |\n",
    "+----+\n",
    "| 2  |\n",
    "| 4  |\n",
    "+----+\n",
    "Explanation: \n",
    "In 2015-01-02, the temperature was higher than the previous day (10 -> 25).\n",
    "In 2015-01-04, the temperature was higher than the previous day (20 -> 30)."
   ]
  },
  {
   "cell_type": "code",
   "execution_count": 4,
   "metadata": {},
   "outputs": [
    {
     "name": "stdout",
     "output_type": "stream",
     "text": [
      "(2,)\n",
      "(4,)\n"
     ]
    }
   ],
   "source": [
    "import sqlite3\n",
    "\n",
    "joint = sqlite3.connect('dataProgramming_MidTermExam.db')  \n",
    "\n",
    "cursor = joint.cursor()\n",
    "\n",
    "form_table = '''\n",
    "CREATE TABLE Weather_Table (\n",
    "    id INT PRIMARY KEY,\n",
    "    recordDate DATE,\n",
    "    temperature INT\n",
    ");\n",
    "'''\n",
    "\n",
    "insert_queries = [\n",
    "    \"INSERT INTO Weather_Table VALUES (1, '2015-01-01', 10);\",\n",
    "    \"INSERT INTO Weather_Table VALUES (2, '2015-01-02', 25);\",\n",
    "    \"INSERT INTO Weather_Table VALUES (3, '2015-01-03', 20);\",\n",
    "    \"INSERT INTO Weather_Table VALUES (4, '2015-01-04', 30);\"\n",
    "]\n",
    "\n",
    "select_data = '''\n",
    "SELECT t1.id\n",
    "FROM Weather_Table t1\n",
    "JOIN Weather_Table t2 ON t1.id = t2.id + 1\n",
    "WHERE t1.temperature > t2.temperature;\n",
    "'''\n",
    "\n",
    "cursor.executescript(form_table)\n",
    "for insert_queries in insert_queries:\n",
    "    cursor.execute(insert_queries)\n",
    "\n",
    "cursor.execute(select_data)\n",
    "results = cursor.fetchall()\n",
    "\n",
    "for row in results:\n",
    "    print(row)\n",
    "\n",
    "joint.commit()\n",
    "joint.close()\n"
   ]
  },
  {
   "cell_type": "markdown",
   "metadata": {},
   "source": [
    "# Question 23\n",
    "20\n",
    " Points\n",
    "\n",
    "In a jupyter notebook solve the following question using python. Please upload the notebook to GitHub and provide the link submission box below.\n",
    "\n",
    "\n",
    "\n",
    "Develop a recursive function tough() that takes two nonnegative integer arguments and outputs a pattern as shown below. \n",
    "Hint: The first argument represents the indentation of the pattern, where the second argument\n",
    "    -- always a pattern of 2 indicates the number *s in the longest line of *s in the pattern"
   ]
  },
  {
   "cell_type": "code",
   "execution_count": 14,
   "metadata": {},
   "outputs": [
    {
     "name": "stdout",
     "output_type": "stream",
     "text": [
      "===========\n",
      "*\n",
      "===========\n",
      "*\n",
      "**\n",
      " *\n",
      "===========\n",
      "*\n",
      "**\n",
      " *\n",
      "***\n",
      "  *\n",
      "  **\n",
      "   *\n",
      "****\n",
      "   *\n",
      "   **\n",
      "    *\n",
      "   ***\n",
      "     *\n",
      "     **\n",
      "      *\n"
     ]
    }
   ],
   "source": [
    "def tough(spaces, shape):   # spaces means indentation, and shape represents the number of asterisks \n",
    "    if shape == 0:\n",
    "        return\n",
    "    else:\n",
    "        tough(spaces, shape - 1)  # generate the pattern by decreasing the number of asterisks in each row.\n",
    "        print(' ' * spaces + '*' * shape)  # prints the pattern with spaces(indentation) followed by asterisks \n",
    "        if shape > 1:  # if shape is more than 1, it means there are more rows to be printed\n",
    "            tough(spaces + shape - 1, shape - 1)\n",
    "\n",
    "#printing\n",
    "tough(0, 0)\n",
    "print(\"===========\")\n",
    "tough(0, 1)\n",
    "print(\"===========\")\n",
    "tough(0, 2)\n",
    "print(\"===========\")\n",
    "tough(0, 4)"
   ]
  },
  {
   "cell_type": "code",
   "execution_count": null,
   "metadata": {},
   "outputs": [],
   "source": []
  }
 ],
 "metadata": {
  "kernelspec": {
   "display_name": "Python 3 (ipykernel)",
   "language": "python",
   "name": "python3"
  },
  "language_info": {
   "codemirror_mode": {
    "name": "ipython",
    "version": 3
   },
   "file_extension": ".py",
   "mimetype": "text/x-python",
   "name": "python",
   "nbconvert_exporter": "python",
   "pygments_lexer": "ipython3",
   "version": "3.11.4"
  }
 },
 "nbformat": 4,
 "nbformat_minor": 2
}
